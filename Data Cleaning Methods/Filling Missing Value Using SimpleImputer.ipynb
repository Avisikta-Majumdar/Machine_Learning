{
 "cells": [
  {
   "cell_type": "code",
   "execution_count": 2,
   "metadata": {},
   "outputs": [],
   "source": [
    "import numpy as np\n",
    "import pandas as pd\n",
    "from sklearn.impute import SimpleImputer"
   ]
  },
  {
   "cell_type": "markdown",
   "metadata": {},
   "source": [
    "# Documantation Of SimpleImputer "
   ]
  },
  {
   "cell_type": "raw",
   "metadata": {},
   "source": [
    "SimpleImputer(\n",
    "    *,\n",
    "    missing_values=nan,\n",
    "    strategy='mean',\n",
    "    fill_value=None,\n",
    "    verbose=0,\n",
    "    copy=True,\n",
    "    add_indicator=False,\n",
    ")\n",
    "Docstring:     \n",
    "Imputation transformer for completing missing values.\n",
    "\n",
    "Read more in the :ref:`User Guide <impute>`.\n",
    "\n",
    ".. versionadded:: 0.20\n",
    "   `SimpleImputer` replaces the previous `sklearn.preprocessing.Imputer`\n",
    "   estimator which is now removed.\n",
    "\n",
    "Parameters\n",
    "----------\n",
    "missing_values : number, string, np.nan (default) or None\n",
    "    The placeholder for the missing values. All occurrences of\n",
    "    `missing_values` will be imputed. For pandas' dataframes with\n",
    "    nullable integer dtypes with missing values, `missing_values`\n",
    "    should be set to `np.nan`, since `pd.NA` will be converted to `np.nan`.\n",
    "\n",
    "strategy : string, default='mean'\n",
    "    The imputation strategy.\n",
    "\n",
    "    - If \"mean\", then replace missing values using the mean along\n",
    "      each column. Can only be used with numeric data.\n",
    "    - If \"median\", then replace missing values using the median along\n",
    "      each column. Can only be used with numeric data.\n",
    "    - If \"most_frequent\", then replace missing using the most frequent\n",
    "      value along each column. Can be used with strings or numeric data.\n",
    "    - If \"constant\", then replace missing values with fill_value. Can be\n",
    "      used with strings or numeric data.\n",
    "\n",
    "    .. versionadded:: 0.20\n",
    "       strategy=\"constant\" for fixed value imputation.\n",
    "\n",
    "fill_value : string or numerical value, default=None\n",
    "    When strategy == \"constant\", fill_value is used to replace all\n",
    "    occurrences of missing_values.\n",
    "    If left to the default, fill_value will be 0 when imputing numerical\n",
    "    data and \"missing_value\" for strings or object data types.\n",
    "\n",
    "verbose : integer, default=0\n",
    "    Controls the verbosity of the imputer.\n",
    "\n",
    "copy : boolean, default=True\n",
    "    If True, a copy of X will be created. If False, imputation will\n",
    "    be done in-place whenever possible. Note that, in the following cases,\n",
    "    a new copy will always be made, even if `copy=False`:\n",
    "\n",
    "    - If X is not an array of floating values;\n",
    "    - If X is encoded as a CSR matrix;\n",
    "    - If add_indicator=True.\n",
    "\n",
    "add_indicator : boolean, default=False\n",
    "    If True, a :class:`MissingIndicator` transform will stack onto output\n",
    "    of the imputer's transform. This allows a predictive estimator\n",
    "    to account for missingness despite imputation. If a feature has no\n",
    "    missing values at fit/train time, the feature won't appear on\n",
    "    the missing indicator even if there are missing values at\n",
    "    transform/test time.\n",
    "\n",
    "Attributes\n",
    "----------\n",
    "statistics_ : array of shape (n_features,)\n",
    "    The imputation fill value for each feature.\n",
    "    Computing statistics can result in `np.nan` values.\n",
    "    During :meth:`transform`, features corresponding to `np.nan`\n",
    "    statistics will be discarded.\n",
    "\n",
    "indicator_ : :class:`sklearn.impute.MissingIndicator`\n",
    "    Indicator used to add binary indicators for missing values.\n",
    "    ``None`` if add_indicator is False"
   ]
  },
  {
   "cell_type": "markdown",
   "metadata": {},
   "source": [
    "# Example 1"
   ]
  },
  {
   "cell_type": "code",
   "execution_count": 6,
   "metadata": {},
   "outputs": [
    {
     "name": "stdout",
     "output_type": "stream",
     "text": [
      "X:-\n",
      "\n",
      "[nan, 2, 3]\n",
      "[4, nan, 6]\n",
      "[10, nan, 9]\n",
      "\n",
      "After filling nan values :-\n",
      " [[ 7.   2.   3. ]\n",
      " [ 4.   3.5  6. ]\n",
      " [10.   3.5  9. ]]\n"
     ]
    }
   ],
   "source": [
    "import numpy as np\n",
    "from sklearn.impute import SimpleImputer\n",
    "imp_mean = SimpleImputer(missing_values=np.nan, strategy='mean')\n",
    "imp_mean.fit([[7, 2, 3], [4, np.nan, 6], [10, 5, 9]])\n",
    "X = [[np.nan, 2, 3], [4, np.nan, 6], [10, np.nan, 9]]\n",
    "print(\"X:-\\n\")\n",
    "for i in range(len(X)):\n",
    "    print(X[i])\n",
    "print(\"\\nAfter filling nan values :-\\n\",imp_mean.transform(X))\n"
   ]
  },
  {
   "cell_type": "code",
   "execution_count": null,
   "metadata": {},
   "outputs": [],
   "source": []
  },
  {
   "cell_type": "code",
   "execution_count": null,
   "metadata": {},
   "outputs": [],
   "source": []
  },
  {
   "cell_type": "code",
   "execution_count": null,
   "metadata": {},
   "outputs": [],
   "source": []
  },
  {
   "cell_type": "markdown",
   "metadata": {},
   "source": [
    "# Example 2"
   ]
  },
  {
   "cell_type": "code",
   "execution_count": 7,
   "metadata": {},
   "outputs": [
    {
     "name": "stdout",
     "output_type": "stream",
     "text": [
      "[[ 1.  2.  3.  5.]\n",
      " [ 5.  2. nan  4.]\n",
      " [ 8.  5. nan  7.]\n",
      " [ 5.  4. nan nan]]\n"
     ]
    },
    {
     "data": {
      "text/plain": [
       "array([[1., 2., 3., 5.],\n",
       "       [5., 2., 3., 4.],\n",
       "       [8., 5., 3., 7.],\n",
       "       [5., 4., 3., 4.]])"
      ]
     },
     "execution_count": 7,
     "metadata": {},
     "output_type": "execute_result"
    }
   ],
   "source": [
    "smplimputr = SimpleImputer(strategy=\"most_frequent\")\n",
    "array = np.array([[1,2,3,5],[5,2,np.nan,4],[8,5,np.nan,7],[5,4,np.nan,np.nan]])\n",
    "print(array)\n",
    "smplimputr.fit(array)\n",
    "smplimputr.transform(array)"
   ]
  },
  {
   "cell_type": "code",
   "execution_count": null,
   "metadata": {},
   "outputs": [],
   "source": []
  },
  {
   "cell_type": "markdown",
   "metadata": {},
   "source": [
    "# Example 3"
   ]
  },
  {
   "cell_type": "code",
   "execution_count": 8,
   "metadata": {},
   "outputs": [
    {
     "name": "stdout",
     "output_type": "stream",
     "text": [
      "[[ 1.  2.  3.  5.]\n",
      " [ 5.  2. nan  4.]\n",
      " [ 8.  5. nan  7.]\n",
      " [ 5.  4. nan nan]]\n"
     ]
    },
    {
     "data": {
      "text/plain": [
       "array([[ 1.,  2.,  3.,  5.],\n",
       "       [ 5.,  2., 19.,  4.],\n",
       "       [ 8.,  5., 19.,  7.],\n",
       "       [ 5.,  4., 19., 19.]])"
      ]
     },
     "execution_count": 8,
     "metadata": {},
     "output_type": "execute_result"
    }
   ],
   "source": [
    "smplimputr = SimpleImputer(strategy=\"constant\",fill_value=19)\n",
    "array = np.array([[1,2,3,5],[5,2,np.nan,4],[8,5,np.nan,7],[5,4,np.nan,np.nan]])\n",
    "print(array)\n",
    "smplimputr.fit(array)\n",
    "smplimputr.transform(array)"
   ]
  },
  {
   "cell_type": "code",
   "execution_count": null,
   "metadata": {},
   "outputs": [],
   "source": []
  },
  {
   "cell_type": "markdown",
   "metadata": {},
   "source": [
    "# Example 4"
   ]
  },
  {
   "cell_type": "code",
   "execution_count": 9,
   "metadata": {},
   "outputs": [
    {
     "name": "stdout",
     "output_type": "stream",
     "text": [
      "[[ 1.  2.  3.  5.]\n",
      " [ 5.  2. nan  4.]\n",
      " [ 8.  5.  7.  7.]\n",
      " [ 5.  4.  9. nan]]\n"
     ]
    },
    {
     "data": {
      "text/plain": [
       "array([[1., 2., 3., 5.],\n",
       "       [5., 2., 7., 4.],\n",
       "       [8., 5., 7., 7.],\n",
       "       [5., 4., 9., 5.]])"
      ]
     },
     "execution_count": 9,
     "metadata": {},
     "output_type": "execute_result"
    }
   ],
   "source": [
    "smplimputr = SimpleImputer(strategy=\"median\")\n",
    "array = np.array([[1,2,3,5],[5,2,np.nan,4],[8,5,7,7],[5,4,9,np.nan]])\n",
    "print(array)\n",
    "smplimputr.fit(array)\n",
    "smplimputr.transform(array)"
   ]
  },
  {
   "cell_type": "markdown",
   "metadata": {},
   "source": [
    "# Now we'll fill values into DataFrame"
   ]
  },
  {
   "cell_type": "code",
   "execution_count": 17,
   "metadata": {},
   "outputs": [
    {
     "data": {
      "text/html": [
       "<div>\n",
       "<style scoped>\n",
       "    .dataframe tbody tr th:only-of-type {\n",
       "        vertical-align: middle;\n",
       "    }\n",
       "\n",
       "    .dataframe tbody tr th {\n",
       "        vertical-align: top;\n",
       "    }\n",
       "\n",
       "    .dataframe thead th {\n",
       "        text-align: right;\n",
       "    }\n",
       "</style>\n",
       "<table border=\"1\" class=\"dataframe\">\n",
       "  <thead>\n",
       "    <tr style=\"text-align: right;\">\n",
       "      <th></th>\n",
       "      <th>Year</th>\n",
       "      <th>Exp</th>\n",
       "    </tr>\n",
       "  </thead>\n",
       "  <tbody>\n",
       "    <tr>\n",
       "      <th>0</th>\n",
       "      <td>2000.0</td>\n",
       "      <td>3.0</td>\n",
       "    </tr>\n",
       "    <tr>\n",
       "      <th>1</th>\n",
       "      <td>2050.0</td>\n",
       "      <td>5.0</td>\n",
       "    </tr>\n",
       "    <tr>\n",
       "      <th>2</th>\n",
       "      <td>2030.0</td>\n",
       "      <td>1.0</td>\n",
       "    </tr>\n",
       "    <tr>\n",
       "      <th>3</th>\n",
       "      <td>2010.0</td>\n",
       "      <td>2.0</td>\n",
       "    </tr>\n",
       "    <tr>\n",
       "      <th>4</th>\n",
       "      <td>NaN</td>\n",
       "      <td>NaN</td>\n",
       "    </tr>\n",
       "    <tr>\n",
       "      <th>5</th>\n",
       "      <td>2020.0</td>\n",
       "      <td>NaN</td>\n",
       "    </tr>\n",
       "  </tbody>\n",
       "</table>\n",
       "</div>"
      ],
      "text/plain": [
       "     Year  Exp\n",
       "0  2000.0  3.0\n",
       "1  2050.0  5.0\n",
       "2  2030.0  1.0\n",
       "3  2010.0  2.0\n",
       "4     NaN  NaN\n",
       "5  2020.0  NaN"
      ]
     },
     "execution_count": 17,
     "metadata": {},
     "output_type": "execute_result"
    }
   ],
   "source": [
    "df = pd.read_csv(\"FillValues.csv\")\n",
    "df.head(7)"
   ]
  },
  {
   "cell_type": "code",
   "execution_count": 24,
   "metadata": {},
   "outputs": [],
   "source": [
    "# Filling Year column value\n",
    "fill = SimpleImputer(strategy='mean')\n",
    "fill.fit(np.array(df['Year']).reshape(-1,1))\n",
    "df.Year = fill.transform(np.array(df['Year']).reshape(-1,1))"
   ]
  },
  {
   "cell_type": "code",
   "execution_count": 28,
   "metadata": {},
   "outputs": [
    {
     "data": {
      "text/plain": [
       "array([2022.])"
      ]
     },
     "execution_count": 28,
     "metadata": {},
     "output_type": "execute_result"
    }
   ],
   "source": [
    "#To get the mean value\n",
    "fill.fit(np.array(df['Year']).reshape(-1,1)).statistics_"
   ]
  },
  {
   "cell_type": "code",
   "execution_count": 25,
   "metadata": {},
   "outputs": [
    {
     "data": {
      "text/plain": [
       "0    2000.0\n",
       "1    2050.0\n",
       "2    2030.0\n",
       "3    2010.0\n",
       "4    2022.0\n",
       "5    2020.0\n",
       "Name: Year, dtype: float64"
      ]
     },
     "execution_count": 25,
     "metadata": {},
     "output_type": "execute_result"
    }
   ],
   "source": [
    "df.Year "
   ]
  },
  {
   "cell_type": "code",
   "execution_count": 18,
   "metadata": {},
   "outputs": [
    {
     "data": {
      "text/plain": [
       "2022.0"
      ]
     },
     "execution_count": 18,
     "metadata": {},
     "output_type": "execute_result"
    }
   ],
   "source": [
    "sum([2000,2050,2010,2020,2030])/len([2000,2050,2030,2010,2020])"
   ]
  },
  {
   "cell_type": "code",
   "execution_count": 20,
   "metadata": {},
   "outputs": [
    {
     "data": {
      "text/plain": [
       "0    3.0\n",
       "1    5.0\n",
       "2    1.0\n",
       "3    2.0\n",
       "4    NaN\n",
       "5    NaN\n",
       "Name: Exp, dtype: float64"
      ]
     },
     "execution_count": 20,
     "metadata": {},
     "output_type": "execute_result"
    }
   ],
   "source": [
    "df.Exp"
   ]
  },
  {
   "cell_type": "code",
   "execution_count": 22,
   "metadata": {},
   "outputs": [],
   "source": [
    "# Filling Exp column value\n",
    "fill = SimpleImputer(strategy='mean')\n",
    "fill.fit(np.array(df['Exp']).reshape(-1,1))\n",
    "df.Exp = fill.transform(np.array(df['Exp']).reshape(-1,1))"
   ]
  },
  {
   "cell_type": "code",
   "execution_count": 29,
   "metadata": {},
   "outputs": [
    {
     "data": {
      "text/plain": [
       "array([2.75])"
      ]
     },
     "execution_count": 29,
     "metadata": {},
     "output_type": "execute_result"
    }
   ],
   "source": [
    "#To get the mean value of df.Exp\n",
    "fill.fit(np.array(df['Exp']).reshape(-1,1)).statistics_"
   ]
  },
  {
   "cell_type": "code",
   "execution_count": 23,
   "metadata": {},
   "outputs": [
    {
     "data": {
      "text/plain": [
       "0    3.00\n",
       "1    5.00\n",
       "2    1.00\n",
       "3    2.00\n",
       "4    2.75\n",
       "5    2.75\n",
       "Name: Exp, dtype: float64"
      ]
     },
     "execution_count": 23,
     "metadata": {},
     "output_type": "execute_result"
    }
   ],
   "source": [
    "df.Exp"
   ]
  },
  {
   "cell_type": "code",
   "execution_count": null,
   "metadata": {},
   "outputs": [],
   "source": []
  },
  {
   "cell_type": "markdown",
   "metadata": {},
   "source": [
    "## How we hv filled none values"
   ]
  },
  {
   "cell_type": "code",
   "execution_count": 26,
   "metadata": {},
   "outputs": [
    {
     "data": {
      "text/html": [
       "<div>\n",
       "<style scoped>\n",
       "    .dataframe tbody tr th:only-of-type {\n",
       "        vertical-align: middle;\n",
       "    }\n",
       "\n",
       "    .dataframe tbody tr th {\n",
       "        vertical-align: top;\n",
       "    }\n",
       "\n",
       "    .dataframe thead th {\n",
       "        text-align: right;\n",
       "    }\n",
       "</style>\n",
       "<table border=\"1\" class=\"dataframe\">\n",
       "  <thead>\n",
       "    <tr style=\"text-align: right;\">\n",
       "      <th></th>\n",
       "      <th>Year</th>\n",
       "      <th>Exp</th>\n",
       "    </tr>\n",
       "  </thead>\n",
       "  <tbody>\n",
       "    <tr>\n",
       "      <th>0</th>\n",
       "      <td>2000.0</td>\n",
       "      <td>3.00</td>\n",
       "    </tr>\n",
       "    <tr>\n",
       "      <th>1</th>\n",
       "      <td>2050.0</td>\n",
       "      <td>5.00</td>\n",
       "    </tr>\n",
       "    <tr>\n",
       "      <th>2</th>\n",
       "      <td>2030.0</td>\n",
       "      <td>1.00</td>\n",
       "    </tr>\n",
       "    <tr>\n",
       "      <th>3</th>\n",
       "      <td>2010.0</td>\n",
       "      <td>2.00</td>\n",
       "    </tr>\n",
       "    <tr>\n",
       "      <th>4</th>\n",
       "      <td>2022.0</td>\n",
       "      <td>2.75</td>\n",
       "    </tr>\n",
       "    <tr>\n",
       "      <th>5</th>\n",
       "      <td>2020.0</td>\n",
       "      <td>2.75</td>\n",
       "    </tr>\n",
       "  </tbody>\n",
       "</table>\n",
       "</div>"
      ],
      "text/plain": [
       "     Year   Exp\n",
       "0  2000.0  3.00\n",
       "1  2050.0  5.00\n",
       "2  2030.0  1.00\n",
       "3  2010.0  2.00\n",
       "4  2022.0  2.75\n",
       "5  2020.0  2.75"
      ]
     },
     "execution_count": 26,
     "metadata": {},
     "output_type": "execute_result"
    }
   ],
   "source": [
    "df.head(10)"
   ]
  },
  {
   "cell_type": "code",
   "execution_count": null,
   "metadata": {},
   "outputs": [],
   "source": []
  }
 ],
 "metadata": {
  "kernelspec": {
   "display_name": "Python 3",
   "language": "python",
   "name": "python3"
  },
  "language_info": {
   "codemirror_mode": {
    "name": "ipython",
    "version": 3
   },
   "file_extension": ".py",
   "mimetype": "text/x-python",
   "name": "python",
   "nbconvert_exporter": "python",
   "pygments_lexer": "ipython3",
   "version": "3.8.5"
  }
 },
 "nbformat": 4,
 "nbformat_minor": 4
}
