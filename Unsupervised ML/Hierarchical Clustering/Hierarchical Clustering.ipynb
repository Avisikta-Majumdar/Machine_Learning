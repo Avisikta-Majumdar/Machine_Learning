{
 "cells": [
  {
   "cell_type": "code",
   "execution_count": 1,
   "metadata": {},
   "outputs": [],
   "source": [
    "import numpy as np\n",
    "from matplotlib import pyplot as plt\n",
    "from scipy.cluster.hierarchy import dendrogram\n",
    "from sklearn.datasets import load_iris\n",
    "from sklearn.cluster import AgglomerativeClustering"
   ]
  },
  {
   "cell_type": "code",
   "execution_count": 2,
   "metadata": {},
   "outputs": [],
   "source": [
    "iris = load_iris()\n",
    "X = iris.data"
   ]
  },
  {
   "cell_type": "code",
   "execution_count": 10,
   "metadata": {},
   "outputs": [
    {
     "data": {
      "text/plain": [
       "sklearn.utils.Bunch"
      ]
     },
     "execution_count": 10,
     "metadata": {},
     "output_type": "execute_result"
    }
   ],
   "source": [
    "type(load_iris())\n"
   ]
  },
  {
   "cell_type": "code",
   "execution_count": 9,
   "metadata": {
    "collapsed": true
   },
   "outputs": [
    {
     "data": {
      "text/plain": [
       "array([[5.1, 3.5, 1.4, 0.2],\n",
       "       [4.9, 3. , 1.4, 0.2],\n",
       "       [4.7, 3.2, 1.3, 0.2],\n",
       "       [4.6, 3.1, 1.5, 0.2],\n",
       "       [5. , 3.6, 1.4, 0.2],\n",
       "       [5.4, 3.9, 1.7, 0.4],\n",
       "       [4.6, 3.4, 1.4, 0.3],\n",
       "       [5. , 3.4, 1.5, 0.2],\n",
       "       [4.4, 2.9, 1.4, 0.2],\n",
       "       [4.9, 3.1, 1.5, 0.1],\n",
       "       [5.4, 3.7, 1.5, 0.2],\n",
       "       [4.8, 3.4, 1.6, 0.2],\n",
       "       [4.8, 3. , 1.4, 0.1],\n",
       "       [4.3, 3. , 1.1, 0.1],\n",
       "       [5.8, 4. , 1.2, 0.2],\n",
       "       [5.7, 4.4, 1.5, 0.4],\n",
       "       [5.4, 3.9, 1.3, 0.4],\n",
       "       [5.1, 3.5, 1.4, 0.3],\n",
       "       [5.7, 3.8, 1.7, 0.3],\n",
       "       [5.1, 3.8, 1.5, 0.3],\n",
       "       [5.4, 3.4, 1.7, 0.2],\n",
       "       [5.1, 3.7, 1.5, 0.4],\n",
       "       [4.6, 3.6, 1. , 0.2],\n",
       "       [5.1, 3.3, 1.7, 0.5],\n",
       "       [4.8, 3.4, 1.9, 0.2],\n",
       "       [5. , 3. , 1.6, 0.2],\n",
       "       [5. , 3.4, 1.6, 0.4],\n",
       "       [5.2, 3.5, 1.5, 0.2],\n",
       "       [5.2, 3.4, 1.4, 0.2],\n",
       "       [4.7, 3.2, 1.6, 0.2],\n",
       "       [4.8, 3.1, 1.6, 0.2],\n",
       "       [5.4, 3.4, 1.5, 0.4],\n",
       "       [5.2, 4.1, 1.5, 0.1],\n",
       "       [5.5, 4.2, 1.4, 0.2],\n",
       "       [4.9, 3.1, 1.5, 0.2],\n",
       "       [5. , 3.2, 1.2, 0.2],\n",
       "       [5.5, 3.5, 1.3, 0.2],\n",
       "       [4.9, 3.6, 1.4, 0.1],\n",
       "       [4.4, 3. , 1.3, 0.2],\n",
       "       [5.1, 3.4, 1.5, 0.2],\n",
       "       [5. , 3.5, 1.3, 0.3],\n",
       "       [4.5, 2.3, 1.3, 0.3],\n",
       "       [4.4, 3.2, 1.3, 0.2],\n",
       "       [5. , 3.5, 1.6, 0.6],\n",
       "       [5.1, 3.8, 1.9, 0.4],\n",
       "       [4.8, 3. , 1.4, 0.3],\n",
       "       [5.1, 3.8, 1.6, 0.2],\n",
       "       [4.6, 3.2, 1.4, 0.2],\n",
       "       [5.3, 3.7, 1.5, 0.2],\n",
       "       [5. , 3.3, 1.4, 0.2],\n",
       "       [7. , 3.2, 4.7, 1.4],\n",
       "       [6.4, 3.2, 4.5, 1.5],\n",
       "       [6.9, 3.1, 4.9, 1.5],\n",
       "       [5.5, 2.3, 4. , 1.3],\n",
       "       [6.5, 2.8, 4.6, 1.5],\n",
       "       [5.7, 2.8, 4.5, 1.3],\n",
       "       [6.3, 3.3, 4.7, 1.6],\n",
       "       [4.9, 2.4, 3.3, 1. ],\n",
       "       [6.6, 2.9, 4.6, 1.3],\n",
       "       [5.2, 2.7, 3.9, 1.4],\n",
       "       [5. , 2. , 3.5, 1. ],\n",
       "       [5.9, 3. , 4.2, 1.5],\n",
       "       [6. , 2.2, 4. , 1. ],\n",
       "       [6.1, 2.9, 4.7, 1.4],\n",
       "       [5.6, 2.9, 3.6, 1.3],\n",
       "       [6.7, 3.1, 4.4, 1.4],\n",
       "       [5.6, 3. , 4.5, 1.5],\n",
       "       [5.8, 2.7, 4.1, 1. ],\n",
       "       [6.2, 2.2, 4.5, 1.5],\n",
       "       [5.6, 2.5, 3.9, 1.1],\n",
       "       [5.9, 3.2, 4.8, 1.8],\n",
       "       [6.1, 2.8, 4. , 1.3],\n",
       "       [6.3, 2.5, 4.9, 1.5],\n",
       "       [6.1, 2.8, 4.7, 1.2],\n",
       "       [6.4, 2.9, 4.3, 1.3],\n",
       "       [6.6, 3. , 4.4, 1.4],\n",
       "       [6.8, 2.8, 4.8, 1.4],\n",
       "       [6.7, 3. , 5. , 1.7],\n",
       "       [6. , 2.9, 4.5, 1.5],\n",
       "       [5.7, 2.6, 3.5, 1. ],\n",
       "       [5.5, 2.4, 3.8, 1.1],\n",
       "       [5.5, 2.4, 3.7, 1. ],\n",
       "       [5.8, 2.7, 3.9, 1.2],\n",
       "       [6. , 2.7, 5.1, 1.6],\n",
       "       [5.4, 3. , 4.5, 1.5],\n",
       "       [6. , 3.4, 4.5, 1.6],\n",
       "       [6.7, 3.1, 4.7, 1.5],\n",
       "       [6.3, 2.3, 4.4, 1.3],\n",
       "       [5.6, 3. , 4.1, 1.3],\n",
       "       [5.5, 2.5, 4. , 1.3],\n",
       "       [5.5, 2.6, 4.4, 1.2],\n",
       "       [6.1, 3. , 4.6, 1.4],\n",
       "       [5.8, 2.6, 4. , 1.2],\n",
       "       [5. , 2.3, 3.3, 1. ],\n",
       "       [5.6, 2.7, 4.2, 1.3],\n",
       "       [5.7, 3. , 4.2, 1.2],\n",
       "       [5.7, 2.9, 4.2, 1.3],\n",
       "       [6.2, 2.9, 4.3, 1.3],\n",
       "       [5.1, 2.5, 3. , 1.1],\n",
       "       [5.7, 2.8, 4.1, 1.3],\n",
       "       [6.3, 3.3, 6. , 2.5],\n",
       "       [5.8, 2.7, 5.1, 1.9],\n",
       "       [7.1, 3. , 5.9, 2.1],\n",
       "       [6.3, 2.9, 5.6, 1.8],\n",
       "       [6.5, 3. , 5.8, 2.2],\n",
       "       [7.6, 3. , 6.6, 2.1],\n",
       "       [4.9, 2.5, 4.5, 1.7],\n",
       "       [7.3, 2.9, 6.3, 1.8],\n",
       "       [6.7, 2.5, 5.8, 1.8],\n",
       "       [7.2, 3.6, 6.1, 2.5],\n",
       "       [6.5, 3.2, 5.1, 2. ],\n",
       "       [6.4, 2.7, 5.3, 1.9],\n",
       "       [6.8, 3. , 5.5, 2.1],\n",
       "       [5.7, 2.5, 5. , 2. ],\n",
       "       [5.8, 2.8, 5.1, 2.4],\n",
       "       [6.4, 3.2, 5.3, 2.3],\n",
       "       [6.5, 3. , 5.5, 1.8],\n",
       "       [7.7, 3.8, 6.7, 2.2],\n",
       "       [7.7, 2.6, 6.9, 2.3],\n",
       "       [6. , 2.2, 5. , 1.5],\n",
       "       [6.9, 3.2, 5.7, 2.3],\n",
       "       [5.6, 2.8, 4.9, 2. ],\n",
       "       [7.7, 2.8, 6.7, 2. ],\n",
       "       [6.3, 2.7, 4.9, 1.8],\n",
       "       [6.7, 3.3, 5.7, 2.1],\n",
       "       [7.2, 3.2, 6. , 1.8],\n",
       "       [6.2, 2.8, 4.8, 1.8],\n",
       "       [6.1, 3. , 4.9, 1.8],\n",
       "       [6.4, 2.8, 5.6, 2.1],\n",
       "       [7.2, 3. , 5.8, 1.6],\n",
       "       [7.4, 2.8, 6.1, 1.9],\n",
       "       [7.9, 3.8, 6.4, 2. ],\n",
       "       [6.4, 2.8, 5.6, 2.2],\n",
       "       [6.3, 2.8, 5.1, 1.5],\n",
       "       [6.1, 2.6, 5.6, 1.4],\n",
       "       [7.7, 3. , 6.1, 2.3],\n",
       "       [6.3, 3.4, 5.6, 2.4],\n",
       "       [6.4, 3.1, 5.5, 1.8],\n",
       "       [6. , 3. , 4.8, 1.8],\n",
       "       [6.9, 3.1, 5.4, 2.1],\n",
       "       [6.7, 3.1, 5.6, 2.4],\n",
       "       [6.9, 3.1, 5.1, 2.3],\n",
       "       [5.8, 2.7, 5.1, 1.9],\n",
       "       [6.8, 3.2, 5.9, 2.3],\n",
       "       [6.7, 3.3, 5.7, 2.5],\n",
       "       [6.7, 3. , 5.2, 2.3],\n",
       "       [6.3, 2.5, 5. , 1.9],\n",
       "       [6.5, 3. , 5.2, 2. ],\n",
       "       [6.2, 3.4, 5.4, 2.3],\n",
       "       [5.9, 3. , 5.1, 1.8]])"
      ]
     },
     "execution_count": 9,
     "metadata": {},
     "output_type": "execute_result"
    }
   ],
   "source": [
    "X"
   ]
  },
  {
   "cell_type": "code",
   "execution_count": 19,
   "metadata": {},
   "outputs": [
    {
     "data": {
      "text/plain": [
       "150"
      ]
     },
     "execution_count": 19,
     "metadata": {},
     "output_type": "execute_result"
    }
   ],
   "source": [
    "len(X)"
   ]
  },
  {
   "cell_type": "code",
   "execution_count": 12,
   "metadata": {},
   "outputs": [
    {
     "data": {
      "text/plain": [
       "array([4.6, 3.4, 1.4, 0.3])"
      ]
     },
     "execution_count": 12,
     "metadata": {},
     "output_type": "execute_result"
    }
   ],
   "source": [
    "X[6]"
   ]
  },
  {
   "cell_type": "code",
   "execution_count": null,
   "metadata": {},
   "outputs": [],
   "source": []
  },
  {
   "cell_type": "code",
   "execution_count": 13,
   "metadata": {},
   "outputs": [
    {
     "data": {
      "text/plain": [
       "array([5. , 3.4, 1.5, 0.2])"
      ]
     },
     "execution_count": 13,
     "metadata": {},
     "output_type": "execute_result"
    }
   ],
   "source": [
    "X[7]"
   ]
  },
  {
   "cell_type": "code",
   "execution_count": 18,
   "metadata": {},
   "outputs": [
    {
     "name": "stdout",
     "output_type": "stream",
     "text": [
      "Sum_of_distance 0.18000000000000027\n"
     ]
    }
   ],
   "source": [
    "a = zip(X[6],X[7])\n",
    "Sum_of_distance=0\n",
    "for i in a:\n",
    "    Sum_of_distance+= (i[0] - i[1])**2\n",
    "print('Sum_of_distance',Sum_of_distance)\n",
    "    "
   ]
  },
  {
   "cell_type": "markdown",
   "metadata": {},
   "source": [
    "# Method 1"
   ]
  },
  {
   "cell_type": "code",
   "execution_count": 3,
   "metadata": {},
   "outputs": [],
   "source": [
    "model = AgglomerativeClustering(distance_threshold=0, n_clusters=None)\n",
    "\n",
    "model = model.fit(X)"
   ]
  },
  {
   "cell_type": "code",
   "execution_count": 7,
   "metadata": {
    "collapsed": true
   },
   "outputs": [
    {
     "data": {
      "text/plain": [
       "array([[101, 142],\n",
       "       [  7,  39],\n",
       "       [  0,  17],\n",
       "       [  9,  34],\n",
       "       [128, 132],\n",
       "       [ 10,  48],\n",
       "       [  4,  37],\n",
       "       [ 19,  21],\n",
       "       [ 29,  30],\n",
       "       [ 57,  93],\n",
       "       [ 80,  81],\n",
       "       [116, 137],\n",
       "       [  8,  38],\n",
       "       [  3,  47],\n",
       "       [ 27,  28],\n",
       "       [ 82,  92],\n",
       "       [ 95,  96],\n",
       "       [127, 138],\n",
       "       [  1,  45],\n",
       "       [ 63,  91],\n",
       "       [ 65,  75],\n",
       "       [ 40, 152],\n",
       "       [123, 126],\n",
       "       [ 49, 151],\n",
       "       [112, 139],\n",
       "       [ 94,  99],\n",
       "       [ 12, 168],\n",
       "       [ 88, 166],\n",
       "       [ 66,  84],\n",
       "       [ 23,  26],\n",
       "       [ 53,  89],\n",
       "       [ 74,  97],\n",
       "       [ 25, 153],\n",
       "       [ 46, 157],\n",
       "       [  2, 163],\n",
       "       [110, 147],\n",
       "       [120, 143],\n",
       "       [136, 148],\n",
       "       [ 78, 169],\n",
       "       [ 69, 160],\n",
       "       [ 54,  58],\n",
       "       [140, 144],\n",
       "       [141, 145],\n",
       "       [ 43, 179],\n",
       "       [ 68,  87],\n",
       "       [ 50,  52],\n",
       "       [ 51,  56],\n",
       "       [107, 130],\n",
       "       [105, 122],\n",
       "       [103, 161],\n",
       "       [164, 171],\n",
       "       [ 20,  31],\n",
       "       [ 11, 158],\n",
       "       [ 67, 165],\n",
       "       [ 70, 167],\n",
       "       [ 42, 162],\n",
       "       [113, 150],\n",
       "       [  6, 184],\n",
       "       [173, 200],\n",
       "       [ 55,  90],\n",
       "       [176, 182],\n",
       "       [ 86, 195],\n",
       "       [124, 186],\n",
       "       [ 83, 133],\n",
       "       [  5,  18],\n",
       "       [ 13, 205],\n",
       "       [175, 177],\n",
       "       [ 32,  33],\n",
       "       [125, 129],\n",
       "       [104, 154],\n",
       "       [ 73, 188],\n",
       "       [149, 204],\n",
       "       [146, 172],\n",
       "       [121, 206],\n",
       "       [ 36, 155],\n",
       "       [ 76, 190],\n",
       "       [115, 187],\n",
       "       [ 61,  71],\n",
       "       [156, 208],\n",
       "       [ 72, 213],\n",
       "       [117, 131],\n",
       "       [191, 212],\n",
       "       [ 24, 202],\n",
       "       [ 98, 159],\n",
       "       [ 16, 224],\n",
       "       [ 35, 210],\n",
       "       [ 64,  79],\n",
       "       [ 85, 196],\n",
       "       [ 77, 185],\n",
       "       [ 44, 183],\n",
       "       [111, 199],\n",
       "       [180, 189],\n",
       "       [102, 218],\n",
       "       [174, 192],\n",
       "       [181, 227],\n",
       "       [170, 225],\n",
       "       [118, 198],\n",
       "       [ 14,  15],\n",
       "       [178, 209],\n",
       "       [222, 229],\n",
       "       [201, 234],\n",
       "       [114, 223],\n",
       "       [ 60, 233],\n",
       "       [217, 247],\n",
       "       [ 59, 241],\n",
       "       [207, 232],\n",
       "       [197, 242],\n",
       "       [ 62, 203],\n",
       "       [214, 250],\n",
       "       [119, 194],\n",
       "       [100, 226],\n",
       "       [108, 219],\n",
       "       [216, 248],\n",
       "       [211, 245],\n",
       "       [240, 261],\n",
       "       [193, 239],\n",
       "       [109, 135],\n",
       "       [235, 255],\n",
       "       [238, 243],\n",
       "       [236, 254],\n",
       "       [ 22, 215],\n",
       "       [220, 244],\n",
       "       [228, 265],\n",
       "       [257, 269],\n",
       "       [134, 249],\n",
       "       [221, 237],\n",
       "       [231, 260],\n",
       "       [ 41, 270],\n",
       "       [230, 266],\n",
       "       [106, 262],\n",
       "       [253, 258],\n",
       "       [259, 274],\n",
       "       [267, 277],\n",
       "       [264, 268],\n",
       "       [271, 275],\n",
       "       [246, 278],\n",
       "       [251, 281],\n",
       "       [276, 283],\n",
       "       [256, 285],\n",
       "       [273, 279],\n",
       "       [272, 280],\n",
       "       [263, 284],\n",
       "       [252, 289],\n",
       "       [286, 291],\n",
       "       [282, 290],\n",
       "       [287, 288],\n",
       "       [292, 293],\n",
       "       [295, 296],\n",
       "       [294, 297]], dtype=int64)"
      ]
     },
     "execution_count": 7,
     "metadata": {},
     "output_type": "execute_result"
    }
   ],
   "source": [
    "model.children_"
   ]
  },
  {
   "cell_type": "code",
   "execution_count": 28,
   "metadata": {
    "collapsed": true
   },
   "outputs": [
    {
     "data": {
      "text/plain": [
       "array([ 0.        ,  0.1       ,  0.1       ,  0.1       ,  0.1       ,\n",
       "        0.1       ,  0.14142136,  0.14142136,  0.14142136,  0.14142136,\n",
       "        0.14142136,  0.14142136,  0.14142136,  0.14142136,  0.14142136,\n",
       "        0.14142136,  0.14142136,  0.14142136,  0.14142136,  0.14142136,\n",
       "        0.14142136,  0.17320508,  0.17320508,  0.17320508,  0.17320508,\n",
       "        0.17320508,  0.18257419,  0.18257419,  0.2       ,  0.2       ,\n",
       "        0.2       ,  0.2       ,  0.2081666 ,  0.21602469,  0.21602469,\n",
       "        0.2236068 ,  0.2236068 ,  0.24494897,  0.24494897,  0.24494897,\n",
       "        0.24494897,  0.24494897,  0.24494897,  0.25819889,  0.26457513,\n",
       "        0.26457513,  0.26457513,  0.26457513,  0.26457513,  0.27080128,\n",
       "        0.27568098,  0.28284271,  0.29439203,  0.29439203,  0.29439203,\n",
       "        0.29439203,  0.30550505,  0.31358146,  0.31464265,  0.31622777,\n",
       "        0.31622777,  0.32145503,  0.33166248,  0.33166248,  0.33166248,\n",
       "        0.33665016,  0.34156503,  0.34641016,  0.34641016,  0.35118846,\n",
       "        0.35355339,  0.35823642,  0.36055513,  0.36285902,  0.36968455,\n",
       "        0.37416574,  0.37416574,  0.4       ,  0.40620192,  0.41231056,\n",
       "        0.41231056,  0.41472883,  0.42229532,  0.43969687,  0.43969687,\n",
       "        0.43969687,  0.4472136 ,  0.45825757,  0.46547467,  0.46726153,\n",
       "        0.48131764,  0.48166378,  0.48989795,  0.51478151,  0.52915026,\n",
       "        0.5329165 ,  0.53851648,  0.54772256,  0.57445626,  0.58022984,\n",
       "        0.59441848,  0.60580525,  0.61373175,  0.6244998 ,  0.63087241,\n",
       "        0.6363961 ,  0.64031242,  0.64291005,  0.66269651,  0.70945989,\n",
       "        0.72456884,  0.73257537,  0.73409052,  0.73496032,  0.76321688,\n",
       "        0.77628542,  0.80622577,  0.81873887,  0.82187359,  0.82613558,\n",
       "        0.85556999,  0.86458082,  0.90998199,  0.92870878,  0.92915732,\n",
       "        1.00534287,  1.04705937,  1.10513951,  1.15325626,  1.21700908,\n",
       "        1.25399362,  1.3048627 ,  1.37126983,  1.41139074,  1.49547731,\n",
       "        1.5977663 ,  1.75916647,  1.76044502,  1.84584475,  1.91608028,\n",
       "        1.91875287,  2.05363058,  2.81393883,  2.86941764,  3.82805262,\n",
       "        4.84770851,  6.39940682, 12.30039605, 32.447607  ])"
      ]
     },
     "execution_count": 28,
     "metadata": {},
     "output_type": "execute_result"
    }
   ],
   "source": [
    "model.distances_"
   ]
  },
  {
   "cell_type": "code",
   "execution_count": 31,
   "metadata": {},
   "outputs": [
    {
     "data": {
      "text/plain": [
       "array([147, 131, 115, 136, 143,  85,  92, 148, 137, 146, 144,  97, 123,\n",
       "        84, 105, 107, 132, 114, 101, 142,  98,  89, 119, 120, 135, 117,\n",
       "       118,  67,  77, 141,  76, 138,  82,  78, 108, 129,  75, 111, 112,\n",
       "       140, 128,  91,  94, 106, 121,  99, 116,  48,  81, 126, 104, 103,\n",
       "        71,  59, 109,  90, 139,  69,  44,  93,  95, 145,  86, 130, 127,\n",
       "        64, 122,  96,  52, 110,  47,  73,  70,  79,  58,  57, 149, 124,\n",
       "        55, 133,  34, 113, 134,  42,  83, 125,  88,  63,  60,  45,  40,\n",
       "        41,  51, 102,  61,  66, 100,  53,  65,  62,  80,  74,  28,  49,\n",
       "        39,  50,  20,  24,  38,  68,  56,  29,  30,  46,  23,  36,  33,\n",
       "        16,  54,  19,  27,  37,  22,  31,  87,   9,  43,  32,  72,  35,\n",
       "        14,  21,  26,  17,  25,  18,  13,  11,  15,  10,  12,   5,   8,\n",
       "         4,   6,   7,   3,   2,   1,   0], dtype=int64)"
      ]
     },
     "execution_count": 31,
     "metadata": {},
     "output_type": "execute_result"
    }
   ],
   "source": [
    "model.labels_"
   ]
  },
  {
   "cell_type": "code",
   "execution_count": 4,
   "metadata": {},
   "outputs": [],
   "source": [
    "def plot_dendrogram(model, **kwargs):\n",
    "    # Create linkage matrix and then plot the dendrogram\n",
    "\n",
    "    # create the counts of samples under each node\n",
    "    counts = np.zeros(model.children_.shape[0])\n",
    "    n_samples = len(model.labels_)\n",
    "    for i, merge in enumerate(model.children_):\n",
    "        current_count = 0\n",
    "        for child_idx in merge:\n",
    "            if child_idx < n_samples:\n",
    "                current_count += 1  # leaf node\n",
    "            else:\n",
    "                current_count += counts[child_idx - n_samples]\n",
    "        counts[i] = current_count\n",
    "\n",
    "    linkage_matrix = np.column_stack([model.children_, model.distances_,\n",
    "                                      counts]).astype(float)\n",
    "\n",
    "    # Plot the corresponding dendrogram\n",
    "    dendrogram(linkage_matrix, **kwargs)\n"
   ]
  },
  {
   "cell_type": "code",
   "execution_count": 27,
   "metadata": {},
   "outputs": [
    {
     "data": {
      "image/png": "[encoded data removed]",
      "text/plain": [
       "<Figure size 1152x648 with 1 Axes>"
      ]
     },
     "metadata": {
      "needs_background": "light"
     },
     "output_type": "display_data"
    }
   ],
   "source": [
    "# setting distance_threshold=0 ensures we compute the full tree.\n",
    "plt.figure(figsize=(16,9))\n",
    "plt.title('Hierarchical Clustering Dendrogram',fontsize=20)\n",
    "# plot the top three levels of the dendrogram\n",
    "\n",
    "plot_dendrogram(model, truncate_mode='level', p=3)\n",
    "plt.xlabel(\"Number of points in node (or index of point if no parenthesis).\",fontsize = 15)\n",
    "plt.show()"
   ]
  },
  {
   "cell_type": "code",
   "execution_count": 36,
   "metadata": {},
   "outputs": [
    {
     "name": "stdout",
     "output_type": "stream",
     "text": [
      "Sum_of_distance 2.42\n",
      "Sum_of_distance 0.6500000000000001\n"
     ]
    }
   ],
   "source": [
    "#As per the graph we can see that index 7 & 23 has highest distance\n",
    "a = zip(X[9],X[15])\n",
    "Sum_of_distance9=0\n",
    "for i in a:\n",
    "    Sum_of_distance9+= (i[0] - i[1])**2\n",
    "print('Sum_of_distance',Sum_of_distance9)\n",
    "\n",
    "b = zip(X[3],X[21])\n",
    "Sum_of_distance8=0\n",
    "for i in b:\n",
    "    Sum_of_distance8+= (i[0] - i[1])**2\n",
    "print('Sum_of_distance',Sum_of_distance8)\n",
    "\n",
    "\n",
    "\n",
    "    "
   ]
  },
  {
   "cell_type": "code",
   "execution_count": 25,
   "metadata": {},
   "outputs": [
    {
     "name": "stdout",
     "output_type": "stream",
     "text": [
      "Sum_of_distance 0.6199999999999997\n"
     ]
    }
   ],
   "source": [
    "a = zip(X[7],X[8])\n",
    "Sum_of_distance=0\n",
    "for i in a:\n",
    "    Sum_of_distance+= (i[0] - i[1])**2\n",
    "print('Sum_of_distance',Sum_of_distance)\n",
    "    "
   ]
  },
  {
   "cell_type": "code",
   "execution_count": 26,
   "metadata": {},
   "outputs": [
    {
     "data": {
      "text/plain": [
       "array([5.1, 3.5, 1.4, 0.2])"
      ]
     },
     "execution_count": 26,
     "metadata": {},
     "output_type": "execute_result"
    }
   ],
   "source": [
    "X[0]"
   ]
  },
  {
   "cell_type": "markdown",
   "metadata": {},
   "source": [
    "# Method 2"
   ]
  },
  {
   "cell_type": "code",
   "execution_count": 39,
   "metadata": {},
   "outputs": [
    {
     "data": {
      "image/png": "[encoded data removed]",
      "text/plain": [
       "<Figure size 2880x1152 with 1 Axes>"
      ]
     },
     "metadata": {
      "needs_background": "light"
     },
     "output_type": "display_data"
    }
   ],
   "source": [
    "import scipy.cluster.hierarchy as shc\n",
    "plt.figure(figsize=(40, 16))  \n",
    "plt.title(\"Dendrograms\")  \n",
    "dend = shc.dendrogram(shc.linkage(X, method='ward'))"
   ]
  },
  {
   "cell_type": "code",
   "execution_count": null,
   "metadata": {},
   "outputs": [],
   "source": []
  }
 ],
 "metadata": {
  "kernelspec": {
   "display_name": "Python 3",
   "language": "python",
   "name": "python3"
  },
  "language_info": {
   "codemirror_mode": {
    "name": "ipython",
    "version": 3
   },
   "file_extension": ".py",
   "mimetype": "text/x-python",
   "name": "python",
   "nbconvert_exporter": "python",
   "pygments_lexer": "ipython3",
   "version": "3.8.5"
  }
 },
 "nbformat": 4,
 "nbformat_minor": 4
}
